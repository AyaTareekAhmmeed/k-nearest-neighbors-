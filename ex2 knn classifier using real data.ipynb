{
 "cells": [
  {
   "cell_type": "code",
   "execution_count": 23,
   "id": "c931211e",
   "metadata": {},
   "outputs": [],
   "source": [
    "#importing libraries\n",
    "import pandas as pd\n",
    "import seaborn as sns\n",
    "import matplotlib.pyplot as plt"
   ]
  },
  {
   "cell_type": "code",
   "execution_count": 16,
   "id": "35e170c0",
   "metadata": {},
   "outputs": [
    {
     "name": "stdout",
     "output_type": "stream",
     "text": [
      "data :\n",
      "    Pregnancies  Glucose  BloodPressure  SkinThickness  Insulin   BMI  \\\n",
      "0            6      148             72             35        0  33.6   \n",
      "1            1       85             66             29        0  26.6   \n",
      "2            8      183             64              0        0  23.3   \n",
      "3            1       89             66             23       94  28.1   \n",
      "4            0      137             40             35      168  43.1   \n",
      "\n",
      "   DiabetesPedigreeFunction  Age  Outcome  \n",
      "0                     0.627   50        1  \n",
      "1                     0.351   31        0  \n",
      "2                     0.672   32        1  \n",
      "3                     0.167   21        0  \n",
      "4                     2.288   33        1  \n",
      "data shape : (768, 9)\n"
     ]
    }
   ],
   "source": [
    "#loading data\n",
    "df = pd.read_csv('diabetes.csv')\n",
    "\n",
    "#showing data\n",
    "print('data :\\n', df.head())\n",
    "\n",
    "#data shape\n",
    "print('data shape :', df.shape)"
   ]
  },
  {
   "cell_type": "code",
   "execution_count": 17,
   "id": "a7ee6815",
   "metadata": {},
   "outputs": [
    {
     "name": "stdout",
     "output_type": "stream",
     "text": [
      "input :\n",
      "    Pregnancies  Glucose  BloodPressure  SkinThickness  Insulin   BMI  \\\n",
      "0            6      148             72             35        0  33.6   \n",
      "1            1       85             66             29        0  26.6   \n",
      "2            8      183             64              0        0  23.3   \n",
      "3            1       89             66             23       94  28.1   \n",
      "4            0      137             40             35      168  43.1   \n",
      "\n",
      "   DiabetesPedigreeFunction  Age  \n",
      "0                     0.627   50  \n",
      "1                     0.351   31  \n",
      "2                     0.672   32  \n",
      "3                     0.167   21  \n",
      "4                     2.288   33  \n",
      "output :\n",
      " [1 0 1 0 1 0 1 0 1 1]\n"
     ]
    }
   ],
   "source": [
    "#splitting input and output data\n",
    "#input\n",
    "X = df.drop(columns=['Outcome'])\n",
    "print('input :\\n', X.head())\n",
    "\n",
    "#output\n",
    "y = df['Outcome'].values\n",
    "print('output :\\n', y[0:10])"
   ]
  },
  {
   "cell_type": "code",
   "execution_count": 18,
   "id": "d95439b6",
   "metadata": {},
   "outputs": [
    {
     "name": "stdout",
     "output_type": "stream",
     "text": [
      "X after rearanging data :\n",
      " [[ 0.63994726  0.84832379  0.14964075 ...  0.20401277  0.46849198\n",
      "   1.4259954 ]\n",
      " [-0.84488505 -1.12339636 -0.16054575 ... -0.68442195 -0.36506078\n",
      "  -0.19067191]\n",
      " [ 1.23388019  1.94372388 -0.26394125 ... -1.10325546  0.60439732\n",
      "  -0.10558415]\n",
      " ...\n",
      " [ 0.3429808   0.00330087  0.14964075 ... -0.73518964 -0.68519336\n",
      "  -0.27575966]\n",
      " [-0.84488505  0.1597866  -0.47073225 ... -0.24020459 -0.37110101\n",
      "   1.17073215]\n",
      " [-0.84488505 -0.8730192   0.04624525 ... -0.20212881 -0.47378505\n",
      "  -0.87137393]]\n"
     ]
    }
   ],
   "source": [
    "#Scaling data \"rearanging data\"\n",
    "from sklearn.preprocessing import StandardScaler\n",
    "sc = StandardScaler()\n",
    "X = sc.fit_transform(X)\n",
    "print(\"X after rearanging data :\\n\", X)"
   ]
  },
  {
   "cell_type": "code",
   "execution_count": 19,
   "id": "779e61d4",
   "metadata": {},
   "outputs": [
    {
     "name": "stdout",
     "output_type": "stream",
     "text": [
      "X_train shape is  (514, 8)\n",
      "X_test shape is  (254, 8)\n",
      "y_train shape is  (514,)\n",
      "y_test shape is  (254,)\n"
     ]
    }
   ],
   "source": [
    "#Splitting data\n",
    "from sklearn.model_selection import train_test_split\n",
    "X_train, X_test, y_train, y_test = train_test_split(X, y, test_size=0.33, random_state=42)\n",
    "\n",
    "#Splitted Data\n",
    "print('X_train shape is ' , X_train.shape)\n",
    "print('X_test shape is ' , X_test.shape)\n",
    "print('y_train shape is ' , y_train.shape)\n",
    "print('y_test shape is ' , y_test.shape)"
   ]
  },
  {
   "cell_type": "code",
   "execution_count": 20,
   "id": "0759ba5c",
   "metadata": {},
   "outputs": [
    {
     "name": "stdout",
     "output_type": "stream",
     "text": [
      "KNNClassifierModel Train Score is :  0.8151750972762646\n",
      "KNNClassifierModel Test Score is :  0.7047244094488189\n"
     ]
    }
   ],
   "source": [
    "#Applying KNeighborsClassifier Model \n",
    "#splitting data into classes\n",
    "\n",
    "'''\n",
    "#sklearn.neighbors.KNeighborsClassifier(n_neighbors=5, weights='uniform’, algorithm=’auto’, leaf_size=30,\n",
    "#                                       p=2, metric='minkowski’, metric_params=None,n_jobs=None)\n",
    "'''\n",
    "from sklearn.neighbors import KNeighborsClassifier\n",
    "KNNClassifierModel = KNeighborsClassifier(n_neighbors= 4,weights ='uniform', # it can be distance\n",
    "                                          algorithm='auto') # it can be ball_tree, kd_tree,brute\n",
    "KNNClassifierModel.fit(X_train, y_train)\n",
    "\n",
    "#Calculating Details\n",
    "print('KNNClassifierModel Train Score is : ' , KNNClassifierModel.score(X_train, y_train))\n",
    "print('KNNClassifierModel Test Score is : ' , KNNClassifierModel.score(X_test, y_test))"
   ]
  },
  {
   "cell_type": "code",
   "execution_count": 21,
   "id": "b008b835",
   "metadata": {},
   "outputs": [
    {
     "name": "stdout",
     "output_type": "stream",
     "text": [
      "Predicted Value for KNNClassifierModel is : \n",
      " [0 0 0 0 1 0 0 0 1 0]\n",
      "Prediction Probabilities Value for KNNClassifierModel is : \n",
      " [[0.75 0.25]\n",
      " [0.75 0.25]\n",
      " [0.75 0.25]\n",
      " [0.75 0.25]\n",
      " [0.25 0.75]\n",
      " [1.   0.  ]\n",
      " [1.   0.  ]\n",
      " [0.5  0.5 ]\n",
      " [0.25 0.75]\n",
      " [0.75 0.25]]\n",
      "Actual value are :\n",
      " [0 0 0 0 0 0 0 0 0 0]\n"
     ]
    }
   ],
   "source": [
    "#Calculating Prediction\n",
    "y_pred = KNNClassifierModel.predict(X_test)\n",
    "y_pred_prob = KNNClassifierModel.predict_proba(X_test)\n",
    "print('Predicted Value for KNNClassifierModel is : \\n' , y_pred[:10])\n",
    "print('Prediction Probabilities Value for KNNClassifierModel is : \\n' , y_pred_prob[:10])\n",
    "\n",
    "#calculating actual data\n",
    "print('Actual value are :\\n',y_test[:10])"
   ]
  },
  {
   "cell_type": "code",
   "execution_count": 25,
   "id": "1c602a07",
   "metadata": {},
   "outputs": [
    {
     "name": "stdout",
     "output_type": "stream",
     "text": [
      "Confusion Matrix is : \n",
      " [[147  21]\n",
      " [ 54  32]]\n"
     ]
    },
    {
     "data": {
      "image/png": "[encoded data removed]",
      "text/plain": [
       "<Figure size 432x288 with 2 Axes>"
      ]
     },
     "metadata": {
      "needs_background": "light"
     },
     "output_type": "display_data"
    }
   ],
   "source": [
    "#Calculating Confusion Matrix\n",
    "from sklearn.metrics import confusion_matrix\n",
    "CM = confusion_matrix(y_test, y_pred)\n",
    "print('Confusion Matrix is : \\n', CM)\n",
    "\n",
    "# drawing confusion matrix\n",
    "sns.heatmap(CM, center = True)\n",
    "plt.show()"
   ]
  }
 ],
 "metadata": {
  "kernelspec": {
   "display_name": "Python 3",
   "language": "python",
   "name": "python3"
  },
  "language_info": {
   "codemirror_mode": {
    "name": "ipython",
    "version": 3
   },
   "file_extension": ".py",
   "mimetype": "text/x-python",
   "name": "python",
   "nbconvert_exporter": "python",
   "pygments_lexer": "ipython3",
   "version": "3.8.8"
  }
 },
 "nbformat": 4,
 "nbformat_minor": 5
}
